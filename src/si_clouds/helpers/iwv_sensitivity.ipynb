{
 "cells": [
  {
   "cell_type": "markdown",
   "id": "af6a2bf3",
   "metadata": {},
   "source": [
    "# IWV sensitivity\n",
    "\n",
    "Test sensitivity of HAMP channels to IWV"
   ]
  },
  {
   "cell_type": "code",
   "execution_count": null,
   "id": "7d284e53",
   "metadata": {},
   "outputs": [],
   "source": [
    "import cmcrameri.cm as cmc\n",
    "import matplotlib.pyplot as plt\n",
    "import numpy as np\n",
    "from lizard.readers.band_pass import read_band_pass\n",
    "from lizard.writers.figure_to_file import write_figure\n",
    "\n",
    "from si_clouds.io.readers.yif_cwp_iwv_sensitivity import read_iwv_sensitivity"
   ]
  },
  {
   "cell_type": "code",
   "execution_count": null,
   "id": "5cb09d84",
   "metadata": {},
   "outputs": [],
   "source": [
    "ds = read_iwv_sensitivity()\n",
    "ds_bp = read_band_pass(\"HAMP\")"
   ]
  },
  {
   "cell_type": "code",
   "execution_count": null,
   "id": "10cd2785",
   "metadata": {},
   "outputs": [],
   "source": [
    "# compute the jacobian in terms of relative error\n",
    "ds[\"iwv_rel\"] = (ds.iwv1 - ds.iwv0) / ds.iwv0 * 100.0\n",
    "ds[\"j_rel\"] = (ds.y1 - ds.y0) / ds.iwv_rel * 20"
   ]
  },
  {
   "cell_type": "code",
   "execution_count": null,
   "id": "5378a0ec",
   "metadata": {},
   "outputs": [],
   "source": [
    "channels_plot = [1, 7, 8, 15, 17, 18, 19, 20, 21, 22, 23, 24, 25]\n",
    "colors = np.concat([cmc.batlow(np.linspace(0, 1, 7)), cmc.hawaii_r(np.linspace(0, 1, 6))])"
   ]
  },
  {
   "cell_type": "code",
   "execution_count": null,
   "id": "d9d3c7dd",
   "metadata": {},
   "outputs": [],
   "source": [
    "fig, ax = plt.subplots(1, 1)\n",
    "\n",
    "for i, channel in enumerate(channels_plot):\n",
    "    ax.scatter(\n",
    "        ds.iwv0,\n",
    "        ds.j.sel(channel=channel),\n",
    "        label=ds_bp.label.sel(channel=channel).values,\n",
    "        s=10, \n",
    "        lw=0,\n",
    "        color=colors[i],\n",
    "    )\n",
    "\n",
    "ax.legend(ncol=2, markerscale=2)\n",
    "\n",
    "ax.axhline(0, color=\"k\", lw=0.5, ls=\"--\")\n",
    "\n",
    "ax.set_xlim(0, 14)\n",
    "ax.set_ylim(-5, 12)\n",
    "\n",
    "ax.set_xlabel(\"IWV [kg m$^{-2}$]\")\n",
    "ax.set_ylabel(\"IWV Jacobian [K kg$^{-1}$ m$^{2}$]\")\n",
    "\n",
    "plt.show()\n",
    "\n",
    "write_figure(fig, \"iwv_sensitivity_absolute.png\", dpi=300, bbox_inches=\"tight\")"
   ]
  },
  {
   "cell_type": "code",
   "execution_count": null,
   "id": "e29f48e2",
   "metadata": {},
   "outputs": [],
   "source": [
    "fig, ax = plt.subplots(1, 1)\n",
    "\n",
    "for i, channel in enumerate(channels_plot):\n",
    "    ax.scatter(\n",
    "        ds.iwv0,\n",
    "        ds.j_rel.sel(channel=channel),\n",
    "        label=ds_bp.label.sel(channel=channel).values,\n",
    "        s=10, \n",
    "        lw=0,\n",
    "        color=colors[i],\n",
    "    )\n",
    "\n",
    "ax.legend(ncol=2, markerscale=2)\n",
    "\n",
    "ax.axhline(0, color=\"k\", lw=0.5, ls=\"--\")\n",
    "\n",
    "ax.set_xlim(0, 14)\n",
    "ax.set_ylim(-5, 12)\n",
    "\n",
    "ax.grid()\n",
    "\n",
    "ax.set_xlabel(r\"IWV [kg m$^{-2}$]\")\n",
    "ax.set_ylabel(r\"$\\Delta$ TB for 20% increase in IWV [K]\")\n",
    "\n",
    "plt.show()\n",
    "\n",
    "write_figure(fig, \"iwv_sensitivity_relative.png\", dpi=300, bbox_inches=\"tight\")"
   ]
  }
 ],
 "metadata": {
  "kernelspec": {
   "display_name": "Python 3",
   "language": "python",
   "name": "python3"
  },
  "language_info": {
   "codemirror_mode": {
    "name": "ipython",
    "version": 3
   },
   "file_extension": ".py",
   "mimetype": "text/x-python",
   "name": "python",
   "nbconvert_exporter": "python",
   "pygments_lexer": "ipython3",
   "version": "3.11.11"
  }
 },
 "nbformat": 4,
 "nbformat_minor": 5
}
